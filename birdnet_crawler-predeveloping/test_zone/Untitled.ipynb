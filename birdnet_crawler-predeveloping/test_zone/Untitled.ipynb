{
 "cells": [
  {
   "cell_type": "code",
   "execution_count": 2,
   "id": "669aa174-fcc9-4a83-aee0-940954ee2317",
   "metadata": {
    "execution": {
     "iopub.execute_input": "2024-02-12T21:04:58.759553Z",
     "iopub.status.busy": "2024-02-12T21:04:58.759262Z",
     "iopub.status.idle": "2024-02-12T21:05:01.273866Z",
     "shell.execute_reply": "2024-02-12T21:05:01.273323Z",
     "shell.execute_reply.started": "2024-02-12T21:04:58.759531Z"
    }
   },
   "outputs": [
    {
     "name": "stderr",
     "output_type": "stream",
     "text": [
      "`DeprecationWarning`: The distutils package is deprecated and slated for removal in Python 3.12. Use setuptools or check PEP 632 for potential alternatives\n"
     ]
    }
   ],
   "source": [
    "import birdnetlib\n"
   ]
  },
  {
   "cell_type": "code",
   "execution_count": 5,
   "id": "bc0e52ef-cd77-4433-9d1c-6eff0075f2bd",
   "metadata": {
    "execution": {
     "iopub.execute_input": "2024-02-12T21:07:50.711936Z",
     "iopub.status.busy": "2024-02-12T21:07:50.711527Z",
     "iopub.status.idle": "2024-02-12T21:07:50.717373Z",
     "shell.execute_reply": "2024-02-12T21:07:50.716625Z",
     "shell.execute_reply.started": "2024-02-12T21:07:50.711904Z"
    }
   },
   "outputs": [
    {
     "name": "stdout",
     "output_type": "stream",
     "text": [
      "Help on package birdnetlib:\n",
      "\n",
      "NAME\n",
      "    birdnetlib\n",
      "\n",
      "PACKAGE CONTENTS\n",
      "    analyzer\n",
      "    analyzer_lite\n",
      "    batch\n",
      "    exceptions\n",
      "    main\n",
      "    species\n",
      "    utils\n",
      "    watcher\n",
      "    wavutils\n",
      "\n",
      "FILE\n",
      "    /home/jovyan/.env3.10/lib/python3.10/site-packages/birdnetlib/__init__.py\n",
      "\n",
      "\n"
     ]
    }
   ],
   "source": [
    "help(birdnetlib)\n"
   ]
  },
  {
   "cell_type": "code",
   "execution_count": null,
   "id": "0d5e9f15-5cef-4085-b74e-4d3f65c4be30",
   "metadata": {},
   "outputs": [],
   "source": []
  }
 ],
 "metadata": {
  "__persist_keys_record": [
   "__persist_nb_uuid__"
  ],
  "__persist_nb_uuid__": "cff3adbe-0491-43f2-942d-5b551df4cd4d",
  "kernelspec": {
   "display_name": "Python 3 (ipykernel)",
   "language": "python",
   "name": "python3"
  },
  "language_info": {
   "codemirror_mode": {
    "name": "ipython",
    "version": 3
   },
   "file_extension": ".py",
   "mimetype": "text/x-python",
   "name": "python",
   "nbconvert_exporter": "python",
   "pygments_lexer": "ipython3",
   "version": "3.10.12"
  }
 },
 "nbformat": 4,
 "nbformat_minor": 5
}
