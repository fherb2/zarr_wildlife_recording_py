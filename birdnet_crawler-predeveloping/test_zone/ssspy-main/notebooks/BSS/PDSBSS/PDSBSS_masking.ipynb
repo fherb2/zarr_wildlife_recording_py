{
 "cells": [
  {
   "cell_type": "code",
   "execution_count": 2,
   "metadata": {
    "execution": {
     "iopub.execute_input": "2024-03-26T18:40:10.472524Z",
     "iopub.status.busy": "2024-03-26T18:40:10.471928Z",
     "iopub.status.idle": "2024-03-26T18:40:24.300070Z",
     "shell.execute_reply": "2024-03-26T18:40:24.297949Z",
     "shell.execute_reply.started": "2024-03-26T18:40:10.472486Z"
    },
    "id": "nr1INZyXeXuR"
   },
   "outputs": [
    {
     "name": "stdout",
     "output_type": "stream",
     "text": [
      "Collecting git+https://github.com/tky823/ssspy.git\n",
      "  Cloning https://github.com/tky823/ssspy.git to /tmp/pip-req-build-y3vdzph0\n",
      "  Running command git clone --filter=blob:none --quiet https://github.com/tky823/ssspy.git /tmp/pip-req-build-y3vdzph0\n",
      "  Resolved https://github.com/tky823/ssspy.git to commit a80fc7369026537b0449e9d06c84a32edbf991d6\n",
      "  Installing build dependencies ... \u001b[?25ldone\n",
      "\u001b[?25h  Getting requirements to build wheel ... \u001b[?25ldone\n",
      "\u001b[?25h  Installing backend dependencies ... \u001b[?25ldone\n",
      "\u001b[?25h  Preparing metadata (pyproject.toml) ... \u001b[?25ldone\n",
      "\u001b[?25hRequirement already satisfied: numpy in /home/jovyan/.venv/lib/python3.10/site-packages (from ssspy==0.1.8.dev141) (1.26.4)\n",
      "Building wheels for collected packages: ssspy\n",
      "  Building wheel for ssspy (pyproject.toml) ... \u001b[?25ldone\n",
      "\u001b[?25h  Created wheel for ssspy: filename=ssspy-0.1.8.dev141-py3-none-any.whl size=123723 sha256=78c46ad9f038271848d335f22d3e596592f9a21101c841cf27538c721154fa8b\n",
      "  Stored in directory: /tmp/pip-ephem-wheel-cache-ui0ytu0b/wheels/a7/0c/a4/4ca628ef27fc2d6d11922d9ec9e17bc5fdfc4113cb875138cb\n",
      "Successfully built ssspy\n",
      "Installing collected packages: ssspy\n",
      "  Attempting uninstall: ssspy\n",
      "    Found existing installation: ssspy 0.1.7\n",
      "    Uninstalling ssspy-0.1.7:\n",
      "      Successfully uninstalled ssspy-0.1.7\n",
      "Successfully installed ssspy-0.1.8.dev141\n"
     ]
    }
   ],
   "source": [
    "!pip install git+https://github.com/tky823/ssspy.git"
   ]
  },
  {
   "cell_type": "code",
   "execution_count": 3,
   "metadata": {
    "execution": {
     "iopub.execute_input": "2024-03-26T18:40:24.303704Z",
     "iopub.status.busy": "2024-03-26T18:40:24.302893Z",
     "iopub.status.idle": "2024-03-26T18:40:24.771726Z",
     "shell.execute_reply": "2024-03-26T18:40:24.771087Z",
     "shell.execute_reply.started": "2024-03-26T18:40:24.303630Z"
    },
    "id": "r9-0QuFfeaut"
   },
   "outputs": [],
   "source": [
    "import numpy as np\n",
    "import scipy.signal as ss\n",
    "import IPython.display as ipd"
   ]
  },
  {
   "cell_type": "code",
   "execution_count": 4,
   "metadata": {
    "execution": {
     "iopub.execute_input": "2024-03-26T18:40:24.773035Z",
     "iopub.status.busy": "2024-03-26T18:40:24.772731Z",
     "iopub.status.idle": "2024-03-26T18:40:24.779163Z",
     "shell.execute_reply": "2024-03-26T18:40:24.778211Z",
     "shell.execute_reply.started": "2024-03-26T18:40:24.772978Z"
    },
    "id": "bYCpxjc6ecsj"
   },
   "outputs": [],
   "source": [
    "from ssspy.utils.dataset import download_sample_speech_data"
   ]
  },
  {
   "cell_type": "code",
   "execution_count": 5,
   "metadata": {
    "execution": {
     "iopub.execute_input": "2024-03-26T18:40:24.783379Z",
     "iopub.status.busy": "2024-03-26T18:40:24.782940Z",
     "iopub.status.idle": "2024-03-26T18:40:24.787299Z",
     "shell.execute_reply": "2024-03-26T18:40:24.786547Z",
     "shell.execute_reply.started": "2024-03-26T18:40:24.783344Z"
    },
    "id": "psnOiF2Tedv_"
   },
   "outputs": [],
   "source": [
    "n_sources = 2\n",
    "max_duration = 10\n",
    "sisec2010_tag = \"dev1_female3\"\n",
    "n_fft, hop_length = 4096, 2048"
   ]
  },
  {
   "cell_type": "code",
   "execution_count": null,
   "metadata": {
    "execution": {
     "iopub.execute_input": "2024-03-26T18:40:24.788368Z",
     "iopub.status.busy": "2024-03-26T18:40:24.788093Z"
    },
    "id": "9DGQmwafeeoR"
   },
   "outputs": [],
   "source": [
    "waveform_src_img, sample_rate = download_sample_speech_data(\n",
    "    n_sources=n_sources,\n",
    "    sisec2010_tag=sisec2010_tag,\n",
    "    max_duration=max_duration,\n",
    "    conv=True,\n",
    ")  # (n_channels, n_sources, n_samples)\n",
    "waveform_mix = np.sum(waveform_src_img, axis=1)  # (n_channels, n_samples)"
   ]
  },
  {
   "cell_type": "code",
   "execution_count": null,
   "metadata": {
    "id": "FVoIVFKPefZB"
   },
   "outputs": [],
   "source": [
    "for idx, waveform in enumerate(waveform_mix):\n",
    "    print(\"Mixture: {}\".format(idx + 1))\n",
    "    display(ipd.Audio(waveform, rate=sample_rate))\n",
    "    print()"
   ]
  },
  {
   "cell_type": "code",
   "execution_count": null,
   "metadata": {
    "id": "NFL0jjzSevDf"
   },
   "outputs": [],
   "source": [
    "import functools"
   ]
  },
  {
   "cell_type": "code",
   "execution_count": null,
   "metadata": {
    "id": "YFJ_fx8gegRT"
   },
   "outputs": [],
   "source": [
    "from ssspy.transform import whiten\n",
    "from ssspy.algorithm import projection_back\n",
    "from ssspy.bss.pdsbss import MaskingPDSBSS"
   ]
  },
  {
   "cell_type": "code",
   "execution_count": null,
   "metadata": {
    "id": "JyLNkfqKepOH"
   },
   "outputs": [],
   "source": [
    "def l21_mask(y, step_size: float = 1) -> np.ndarray:\n",
    "    \"\"\"Apply proximal operator of mixed L21 norm.\n",
    "\n",
    "    Args:\n",
    "        y (np.ndarray):\n",
    "            Input vector with shape of (n_sources, n_bins, n_frames).\n",
    "        step_size (float):\n",
    "            Step size parameter.\n",
    "\n",
    "    Returns:\n",
    "        Mask based on mixed L21 norm.\n",
    "        The shape of (n_sources, n_bins, n_frames).\n",
    "\n",
    "    \"\"\"\n",
    "    norm = np.linalg.norm(y, axis=1, keepdims=True)\n",
    "    mask = np.maximum(1 - step_size / norm, 0)\n",
    "    mask = np.tile(mask, (1, y.shape[1], 1))\n",
    "\n",
    "    return mask"
   ]
  },
  {
   "cell_type": "code",
   "execution_count": null,
   "metadata": {
    "id": "3pvUgw5vesw1"
   },
   "outputs": [],
   "source": [
    "pds_bss = MaskingPDSBSS(\n",
    "    mu1=1,\n",
    "    mu2=1,\n",
    "    relaxation=1.75,\n",
    "    mask_fn=functools.partial(l21_mask, step_size=1),\n",
    "    scale_restoration=False,\n",
    ")\n",
    "print(pds_bss)"
   ]
  },
  {
   "cell_type": "code",
   "execution_count": null,
   "metadata": {
    "id": "ii11j5XrexNu"
   },
   "outputs": [],
   "source": [
    "_, _, spectrogram_mix = ss.stft(waveform_mix, window=\"hann\", nperseg=n_fft, noverlap=n_fft-hop_length)"
   ]
  },
  {
   "cell_type": "code",
   "execution_count": null,
   "metadata": {
    "id": "XpScpxUQe1cT"
   },
   "outputs": [],
   "source": [
    "spectrogram_mix_whitened = whiten(spectrogram_mix)\n",
    "spectrogram_mix_normalized = pds_bss.normalize_by_spectral_norm(spectrogram_mix_whitened)\n",
    "spectrogram_est = pds_bss(spectrogram_mix_normalized, n_iter=1000)\n",
    "spectrogram_est = projection_back(spectrogram_est, reference=spectrogram_mix)"
   ]
  },
  {
   "cell_type": "code",
   "execution_count": null,
   "metadata": {
    "id": "HY8VE2ARe3mW"
   },
   "outputs": [],
   "source": [
    "_, waveform_est = ss.istft(spectrogram_est, window=\"hann\", nperseg=n_fft, noverlap=n_fft-hop_length)"
   ]
  },
  {
   "cell_type": "code",
   "execution_count": null,
   "metadata": {
    "id": "v9vi88kKe48R"
   },
   "outputs": [],
   "source": [
    "for idx, waveform in enumerate(waveform_est):\n",
    "    print(\"Estimated source: {}\".format(idx + 1))\n",
    "    display(ipd.Audio(waveform, rate=sample_rate))\n",
    "    print()"
   ]
  },
  {
   "cell_type": "code",
   "execution_count": null,
   "metadata": {
    "id": "008c-U04e6Dw"
   },
   "outputs": [],
   "source": []
  }
 ],
 "metadata": {
  "__persist_keys_record": [
   "__persist_nb_uuid__"
  ],
  "__persist_nb_uuid__": "799c4a09-9ef0-4e2b-b191-9c0f7ebce01f",
  "colab": {
   "authorship_tag": "ABX9TyM/ed6diEsnD5EoCV6u0+FD",
   "provenance": []
  },
  "kernelspec": {
   "display_name": "Python 3 (ipykernel)",
   "language": "python",
   "name": "python3"
  },
  "language_info": {
   "codemirror_mode": {
    "name": "ipython",
    "version": 3
   },
   "file_extension": ".py",
   "mimetype": "text/x-python",
   "name": "python",
   "nbconvert_exporter": "python",
   "pygments_lexer": "ipython3",
   "version": "3.10.12"
  }
 },
 "nbformat": 4,
 "nbformat_minor": 4
}
